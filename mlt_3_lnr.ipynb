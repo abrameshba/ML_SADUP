{
  "nbformat": 4,
  "nbformat_minor": 0,
  "metadata": {
    "colab": {
      "provenance": [],
      "authorship_tag": "ABX9TyPMR2k5Y/cQ+cw0WtHrbsiM",
      "include_colab_link": true
    },
    "kernelspec": {
      "name": "python3",
      "display_name": "Python 3"
    },
    "language_info": {
      "name": "python"
    }
  },
  "cells": [
    {
      "cell_type": "markdown",
      "metadata": {
        "id": "view-in-github",
        "colab_type": "text"
      },
      "source": [
        "<a href=\"https://colab.research.google.com/github/abrameshba/ML_SADUP/blob/main/mlt_3_lnr.ipynb\" target=\"_parent\"><img src=\"https://colab.research.google.com/assets/colab-badge.svg\" alt=\"Open In Colab\"/></a>"
      ]
    },
    {
      "cell_type": "markdown",
      "source": [
        "This session is for coding\n",
        "Linear regression with built-in datasets, splitting the as train and test datasets.\n",
        "Linear regression by reading a dataset "
      ],
      "metadata": {
        "id": "PuYJrQ0OtU9L"
      }
    }
  ]
}